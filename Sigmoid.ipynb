{
 "cells": [
  {
   "cell_type": "code",
   "execution_count": 1,
   "id": "67cdd9d3",
   "metadata": {},
   "outputs": [],
   "source": [
    "import numpy"
   ]
  },
  {
   "cell_type": "code",
   "execution_count": 2,
   "id": "01a14efa",
   "metadata": {},
   "outputs": [],
   "source": [
    "def NN (m1, m2, w1, w2, b):\n",
    "    z = w1 * m1 + w2 * m2 + b\n",
    "    return sigmoid(z)"
   ]
  },
  {
   "cell_type": "code",
   "execution_count": 3,
   "id": "c0bc1440",
   "metadata": {},
   "outputs": [],
   "source": [
    "def sigmoid(x):\n",
    "    return 1 / 1 + numpy.exp(-x)"
   ]
  },
  {
   "cell_type": "code",
   "execution_count": 4,
   "id": "647f458b",
   "metadata": {},
   "outputs": [],
   "source": [
    "w1 = numpy.random.randn()"
   ]
  },
  {
   "cell_type": "code",
   "execution_count": 5,
   "id": "25ceb7ac",
   "metadata": {},
   "outputs": [],
   "source": [
    "w2 = numpy.random.randn()"
   ]
  },
  {
   "cell_type": "code",
   "execution_count": 10,
   "id": "65af645a",
   "metadata": {},
   "outputs": [],
   "source": [
    "b = numpy.random.randn()"
   ]
  },
  {
   "cell_type": "code",
   "execution_count": 11,
   "id": "81a93d64",
   "metadata": {},
   "outputs": [
    {
     "data": {
      "text/plain": [
       "4.630547961902042"
      ]
     },
     "execution_count": 11,
     "metadata": {},
     "output_type": "execute_result"
    }
   ],
   "source": [
    "NN(1, 2, w1, w2, b)"
   ]
  },
  {
   "cell_type": "code",
   "execution_count": null,
   "id": "163fa460",
   "metadata": {},
   "outputs": [],
   "source": []
  }
 ],
 "metadata": {
  "kernelspec": {
   "display_name": "Python 3 (ipykernel)",
   "language": "python",
   "name": "python3"
  },
  "language_info": {
   "codemirror_mode": {
    "name": "ipython",
    "version": 3
   },
   "file_extension": ".py",
   "mimetype": "text/x-python",
   "name": "python",
   "nbconvert_exporter": "python",
   "pygments_lexer": "ipython3",
   "version": "3.10.4"
  }
 },
 "nbformat": 4,
 "nbformat_minor": 5
}
