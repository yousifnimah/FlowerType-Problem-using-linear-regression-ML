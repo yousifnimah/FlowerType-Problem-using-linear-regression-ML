{
 "cells": [
  {
   "cell_type": "code",
   "execution_count": 202,
   "id": "ba72cf6e",
   "metadata": {},
   "outputs": [],
   "source": [
    "%matplotlib inline"
   ]
  },
  {
   "cell_type": "code",
   "execution_count": 203,
   "id": "287c2991",
   "metadata": {},
   "outputs": [],
   "source": [
    "from matplotlib import pyplot as plt\n",
    "import numpy as np\n",
    "import os"
   ]
  },
  {
   "cell_type": "code",
   "execution_count": 204,
   "id": "9c145584",
   "metadata": {},
   "outputs": [],
   "source": [
    "# define trained data sets\n",
    "data = [\n",
    "    [3, 1.5,1], \n",
    "    [2, 1,0], \n",
    "    [4,1.5,1], \n",
    "    [3,1,0], \n",
    "    [3.5,0.5,1], \n",
    "    [2,0.5,0], \n",
    "    [5.5,1,1], \n",
    "    [1,1,0]\n",
    "]"
   ]
  },
  {
   "cell_type": "code",
   "execution_count": 205,
   "id": "2ea23fcb",
   "metadata": {},
   "outputs": [],
   "source": [
    "mystry_flower = [4.5, 1] # we need to find the missed flower type, if point > 0.5 it's red or point < 0.5 it's blue"
   ]
  },
  {
   "cell_type": "code",
   "execution_count": 206,
   "id": "3733711c",
   "metadata": {},
   "outputs": [],
   "source": [
    "#  Neural Network\n",
    "#\n",
    "#     O\n",
    "#    / \\\n",
    "#   /   \\\n",
    "#  O     O length, width, type, w1, w2, b"
   ]
  },
  {
   "cell_type": "code",
   "execution_count": 207,
   "id": "beb5c94f",
   "metadata": {},
   "outputs": [],
   "source": [
    "def sigmoid(x):\n",
    "    return 1/(1+ np.exp(-x))"
   ]
  },
  {
   "cell_type": "code",
   "execution_count": 208,
   "id": "04f89cd3",
   "metadata": {},
   "outputs": [],
   "source": [
    "def sigmoid_p(x):\n",
    "    return sigmoid(x) - (1-sigmoid(x))"
   ]
  },
  {
   "cell_type": "code",
   "execution_count": 209,
   "id": "2de0376d",
   "metadata": {},
   "outputs": [
    {
     "data": {
      "text/plain": [
       "[<matplotlib.lines.Line2D at 0x7fe0a08ae8c0>]"
      ]
     },
     "execution_count": 209,
     "metadata": {},
     "output_type": "execute_result"
    },
    {
     "data": {
      "image/png": "[encoded data removed]",
      "text/plain": [
       "<Figure size 432x288 with 1 Axes>"
      ]
     },
     "metadata": {
      "needs_background": "light"
     },
     "output_type": "display_data"
    }
   ],
   "source": [
    "t = np.linspace(6,-6, 100)\n",
    "y = sigmoid(t)\n",
    "yp = sigmoid_p(y)\n",
    "plt.plot(t, y, 'red')\n",
    "plt.plot(t, yp, 'blue')"
   ]
  },
  {
   "cell_type": "code",
   "execution_count": 210,
   "id": "e62b11f4",
   "metadata": {},
   "outputs": [
    {
     "data": {
      "text/plain": [
       "<matplotlib.collections.PathCollection at 0x7fe0a0958730>"
      ]
     },
     "execution_count": 210,
     "metadata": {},
     "output_type": "execute_result"
    },
    {
     "data": {
      "image/png": "[encoded data removed]",
      "text/plain": [
       "<Figure size 432x288 with 1 Axes>"
      ]
     },
     "metadata": {
      "needs_background": "light"
     },
     "output_type": "display_data"
    }
   ],
   "source": [
    "#scatter data\n",
    "plt.axis([0,6, 0, 6])\n",
    "plt.grid()\n",
    "for i in range(len(data)):\n",
    "    point = data[i]\n",
    "    if point[2] == 0:\n",
    "        color = \"blue\"\n",
    "    else:\n",
    "        color = \"red\"\n",
    "    plt.scatter(point[0], point[1], c=color)\n",
    "    \n",
    "plt.scatter(mystry_flower[0], mystry_flower[1], c='green')"
   ]
  },
  {
   "cell_type": "code",
   "execution_count": 245,
   "id": "2f7ef9fd",
   "metadata": {},
   "outputs": [],
   "source": [
    "#train the network\n",
    "def train():\n",
    "    # define wights with random values\n",
    "    w1 = np.random.randn()\n",
    "    w2 = np.random.randn()\n",
    "    b = np.random.randn()\n",
    "    \n",
    "    iterations = 5000\n",
    "    learning_rate = 0.1\n",
    "    \n",
    "    costs = []\n",
    "\n",
    "    #looping as generations\n",
    "    for i in range(iterations):\n",
    "        #pick a random point from dataset \n",
    "        index = np.random.randint(len(data))\n",
    "        point = data[index]\n",
    "\n",
    "        #define the formula\n",
    "        z = w1 * point[0] + w2 * point[1] + b\n",
    "        pred = sigmoid(z)\n",
    "        target = point[2]\n",
    "\n",
    "        cost = np.square(pred - target)\n",
    "        \n",
    "        # print the cost over all data points every 1k iters\n",
    "        if i % 100 == 0:\n",
    "            c = 0\n",
    "            for j in range(len(data)):\n",
    "                p = data[j]\n",
    "                p_pred = sigmoid(w1 * p[0] + w2 * p[1] + b)\n",
    "                c += np.square(p_pred - p[2])\n",
    "            costs.append(c)\n",
    "\n",
    "        drcost = 2 * (pred - target)\n",
    "        drpred_dz = sigmoid_p(z)\n",
    "\n",
    "        drz_drw1 = point[0]\n",
    "        drz_drw2 = point[1]\n",
    "        drz_drb = 1\n",
    "\n",
    "        dr_cost_dw1 = drcost * drpred_dz * drz_drw1\n",
    "        dr_cost_dw2 = drcost * drpred_dz * drz_drw2\n",
    "        dr_cost_db = drcost * drpred_dz * drz_drb\n",
    "\n",
    "        w1 = w1 - learning_rate * dr_cost_dw1\n",
    "        w2 = w2 - learning_rate * dr_cost_dw2\n",
    "        b = b - learning_rate * dr_cost_db\n",
    "    fig = plt.plot(costs)\n",
    "    return {w1, w2, b}"
   ]
  },
  {
   "cell_type": "code",
   "execution_count": 246,
   "id": "db5300c1",
   "metadata": {},
   "outputs": [
    {
     "data": {
      "image/png": "[encoded data removed]",
      "text/plain": [
       "<Figure size 432x288 with 1 Axes>"
      ]
     },
     "metadata": {
      "needs_background": "light"
     },
     "output_type": "display_data"
    }
   ],
   "source": [
    "w1, w2, b = train()"
   ]
  },
  {
   "cell_type": "code",
   "execution_count": 261,
   "id": "48731a0a",
   "metadata": {},
   "outputs": [],
   "source": [
    "def find_color(m1, m2):\n",
    "    z = w1 * m1 + w2 * m2 + b\n",
    "    predication = sigmoid(z)\n",
    "    print(\"Predication is \"  + str(predication))\n",
    "    if predication <= 0.5:\n",
    "        color = \"Blue\"\n",
    "    else:\n",
    "        color = \"Red\"\n",
    "    print(color)\n",
    "    os.system(\"Say \" + color)"
   ]
  },
  {
   "cell_type": "code",
   "execution_count": 267,
   "id": "4ff101ec",
   "metadata": {},
   "outputs": [
    {
     "name": "stdout",
     "output_type": "stream",
     "text": [
      "Predication is 0.751758037671652\n",
      "Red\n"
     ]
    }
   ],
   "source": [
    "#point = data[0] # should be red\n",
    "point = mystry_flower\n",
    "find_color(point[0], point[1])"
   ]
  }
 ],
 "metadata": {
  "kernelspec": {
   "display_name": "Python 3 (ipykernel)",
   "language": "python",
   "name": "python3"
  },
  "language_info": {
   "codemirror_mode": {
    "name": "ipython",
    "version": 3
   },
   "file_extension": ".py",
   "mimetype": "text/x-python",
   "name": "python",
   "nbconvert_exporter": "python",
   "pygments_lexer": "ipython3",
   "version": "3.10.4"
  }
 },
 "nbformat": 4,
 "nbformat_minor": 5
}
