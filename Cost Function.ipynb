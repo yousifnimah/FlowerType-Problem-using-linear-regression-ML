{
 "cells": [
  {
   "cell_type": "code",
   "execution_count": 54,
   "id": "83720353",
   "metadata": {},
   "outputs": [],
   "source": [
    "import numpy"
   ]
  },
  {
   "cell_type": "code",
   "execution_count": 66,
   "id": "99297f0a",
   "metadata": {},
   "outputs": [],
   "source": [
    "def slope_num(b):\n",
    "    h = 0.0001\n",
    "    return (cost(b + h) - cost(b)) / h"
   ]
  },
  {
   "cell_type": "code",
   "execution_count": 56,
   "id": "995e7856",
   "metadata": {},
   "outputs": [],
   "source": [
    "def cost(b):\n",
    "    return (b - 4) ** 2"
   ]
  },
  {
   "cell_type": "code",
   "execution_count": 57,
   "id": "933e228a",
   "metadata": {},
   "outputs": [],
   "source": [
    "def slope(b):\n",
    "    return 2 * (b - 4)"
   ]
  },
  {
   "cell_type": "code",
   "execution_count": 60,
   "id": "972fa396",
   "metadata": {},
   "outputs": [
    {
     "name": "stdout",
     "output_type": "stream",
     "text": [
      "5.6\n"
     ]
    }
   ],
   "source": [
    "b = 6\n",
    "b = b - 0.1 * slope(b)\n",
    "print(b)"
   ]
  },
  {
   "cell_type": "code",
   "execution_count": 70,
   "id": "ebce567f",
   "metadata": {},
   "outputs": [
    {
     "name": "stdout",
     "output_type": "stream",
     "text": [
      "4.8\n",
      "4.64\n",
      "4.512\n",
      "4.409599999999999\n",
      "4.327679999999999\n",
      "4.262143999999999\n",
      "4.2097152\n",
      "4.16777216\n",
      "4.134217728\n",
      "4.1073741824\n"
     ]
    }
   ],
   "source": [
    "b = 5\n",
    "for i in range(10):\n",
    "    b = b - 0.1 * slope(b)\n",
    "    print(b)"
   ]
  }
 ],
 "metadata": {
  "kernelspec": {
   "display_name": "Python 3 (ipykernel)",
   "language": "python",
   "name": "python3"
  },
  "language_info": {
   "codemirror_mode": {
    "name": "ipython",
    "version": 3
   },
   "file_extension": ".py",
   "mimetype": "text/x-python",
   "name": "python",
   "nbconvert_exporter": "python",
   "pygments_lexer": "ipython3",
   "version": "3.10.4"
  }
 },
 "nbformat": 4,
 "nbformat_minor": 5
}
